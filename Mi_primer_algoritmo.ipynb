{
  "nbformat": 4,
  "nbformat_minor": 0,
  "metadata": {
    "colab": {
      "name": "Mi primer algoritmo.ipynb",
      "provenance": [],
      "authorship_tag": "ABX9TyPaNySyUPbZirhsSdARqGO/",
      "include_colab_link": true
    },
    "kernelspec": {
      "name": "python3",
      "display_name": "Python 3"
    },
    "language_info": {
      "name": "python"
    }
  },
  "cells": [
    {
      "cell_type": "markdown",
      "metadata": {
        "id": "view-in-github",
        "colab_type": "text"
      },
      "source": [
        "<a href=\"https://colab.research.google.com/github/manuarriaza/optimizacion_mis_ejercicios/blob/main/Mi_primer_algoritmo.ipynb\" target=\"_parent\"><img src=\"https://colab.research.google.com/assets/colab-badge.svg\" alt=\"Open In Colab\"/></a>"
      ]
    },
    {
      "cell_type": "code",
      "metadata": {
        "colab": {
          "base_uri": "https://localhost:8080/"
        },
        "id": "b-53fgq7RDuk",
        "outputId": "40602bee-14f5-48e6-e9c4-d6e245415a77"
      },
      "source": [
        "# Mi solución\n",
        "A = [1, 2, 6, 7, 12, 13, 15]\n",
        "B = [2, 3, 4, 7, 13]\n",
        "C = []\n",
        "\n",
        "for b in B:\n",
        "  if b in A:\n",
        "    C.append(b)\n",
        "\n",
        "print(C)"
      ],
      "execution_count": 22,
      "outputs": [
        {
          "output_type": "stream",
          "text": [
            "[2, 7, 13]\n"
          ],
          "name": "stdout"
        }
      ]
    },
    {
      "cell_type": "code",
      "metadata": {
        "id": "dp9DJGjCRH0s",
        "colab": {
          "base_uri": "https://localhost:8080/"
        },
        "outputId": "9974f70a-bc65-4cc1-9f24-43a4690b688d"
      },
      "source": [
        "# Solución profesor\n",
        "A = [1, 2, 6, 7, 12, 13, 15]\n",
        "B = [2, 3, 4, 7, 13]\n",
        "\n",
        "SALIDA = []\n",
        "\n",
        "for i in A:\n",
        "  for k in B:\n",
        "    if i == k:\n",
        "      SALIDA.append(i)\n",
        "\n",
        "print(SALIDA)"
      ],
      "execution_count": 17,
      "outputs": [
        {
          "output_type": "stream",
          "text": [
            "[2, 7, 13]\n"
          ],
          "name": "stdout"
        }
      ]
    },
    {
      "cell_type": "code",
      "metadata": {
        "colab": {
          "base_uri": "https://localhost:8080/"
        },
        "id": "6iqNL1AxTYrk",
        "outputId": "5758aef2-b7f9-4121-c38e-0240d69bf508"
      },
      "source": [
        "C = [x for x in A if x in B]\n",
        "print(C)"
      ],
      "execution_count": 16,
      "outputs": [
        {
          "output_type": "stream",
          "text": [
            "[2, 7, 13]\n"
          ],
          "name": "stdout"
        }
      ]
    },
    {
      "cell_type": "code",
      "metadata": {
        "colab": {
          "base_uri": "https://localhost:8080/"
        },
        "id": "11SlKtShTgw7",
        "outputId": "ba6e3dd5-795d-4bdc-890d-90c90ebde3ad"
      },
      "source": [
        "interseccion = list(set(A).intersection(set(B)))\n",
        "print(interseccion)"
      ],
      "execution_count": 18,
      "outputs": [
        {
          "output_type": "stream",
          "text": [
            "[2, 13, 7]\n"
          ],
          "name": "stdout"
        }
      ]
    },
    {
      "cell_type": "code",
      "metadata": {
        "id": "iZSCfxR1UEiF"
      },
      "source": [
        ""
      ],
      "execution_count": null,
      "outputs": []
    }
  ]
}